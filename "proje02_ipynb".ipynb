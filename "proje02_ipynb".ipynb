{
  "nbformat": 4,
  "nbformat_minor": 0,
  "metadata": {
    "colab": {
      "provenance": [],
      "authorship_tag": "ABX9TyMxBZgpW9GVfiJ4xLHg7ZH3",
      "include_colab_link": true
    },
    "kernelspec": {
      "name": "python3",
      "display_name": "Python 3"
    },
    "language_info": {
      "name": "python"
    }
  },
  "cells": [
    {
      "cell_type": "markdown",
      "metadata": {
        "id": "view-in-github",
        "colab_type": "text"
      },
      "source": [
        "<a href=\"https://colab.research.google.com/github/ElcinComak/hu-bby162-2023/blob/main/%22proje02_ipynb%22.ipynb\" target=\"_parent\"><img src=\"https://colab.research.google.com/assets/colab-badge.svg\" alt=\"Open In Colab\"/></a>"
      ]
    },
    {
      "cell_type": "code",
      "source": [
        "import random\n",
        "import string\n",
        "\n",
        "#kelime listelerim oluşturuyorum\n",
        "def kelime_listlerim():\n",
        "    kelime_list = [\"kabak\", \"domates\", \"patlıcan\", \"biber\", \"karnabahar\", \"ev\", \"araba\"]\n",
        "    return random.choice(kelime_list)\n",
        "\n",
        "#seviye tercih fonksiyonu \n",
        "def seviye_tercih():\n",
        "    seviye = input(\"Lütfen (K)olay, (O)rta veya (Z)or seviyeden birini seçin:: \").upper()\n",
        "    if seviye == \"K\":\n",
        "        return 5\n",
        "    elif seviye == \"O\":\n",
        "        return 3\n",
        "    elif seviye == \"Z\":\n",
        "        return 1\n",
        "    else:\n",
        "        print(\"Geçersiz bir giriş. Lütfen tekrar deneyin.\")\n",
        "        return seviye_tercih()\n",
        "    #tekrar oynamak istermisiniz sorusunun fonksiyonu\n",
        "def tekrar_oyna():\n",
        "    return input(\"Oyunu tekrar oynamak istermisiniz ? (E)vet veya (H)ayır: \").upper() == \"E\"\n",
        "\n",
        "#adam Asmaca fonksiyonun oyunun oynanış ve seçimlerin çalıştırdığım fonksiyon.\n",
        "def adamAsmaca():\n",
        "    \n",
        "    kelime = kelime_listlerim().upper()\n",
        "    kelime_harfleri = set(kelime)\n",
        "    gecerliharf = set(string.ascii_uppercase)\n",
        "    kullanilan_harfler = set()\n",
        "    canlar = seviye_tercih()\n",
        "\n",
        "    while len(kelime_harfleri) > 0 and canlar > 0:\n",
        "        print(\"Kalan canınız:\", canlar, \"Kullandığınız harfler: \", \" \".join(kullanilan_harfler))     \n",
        "        kelime_list = [harfler if harfler in kullanilan_harfler else \"_\" for harfler in kelime]\n",
        "        print(\"Geçerli kelime: \", \" \".join(kelime_list))\n",
        "\n",
        "        kullanici_harfi = input(\"Bir harf tahmin edin: \").upper()\n",
        "        if kullanici_harfi in gecerliharf - kullanilan_harfler:\n",
        "            kullanilan_harfler.add(kullanici_harfi)\n",
        "            if kullanici_harfi in kelime_harfleri:\n",
        "                kelime_harfleri.remove(kullanici_harfi)\n",
        "            else:\n",
        "                canlar = canlar - 1\n",
        "                print(\"Harf kelimede değil.\")\n",
        "        elif kullanici_harfi in kullanilan_harfler:\n",
        "            print(\"Bu harfi daha önce kullandınız. Lütfen tekrar deneyin.\")\n",
        "        else:\n",
        "            print(\"Geçersiz harf. Lütfen tekrar deneyin.\")\n",
        "\n",
        "    if canlar == 0:\n",
        "        print(\"Üzgünüm, Sen Asıldın ve Öldün!. Kelime şuydu : \", kelime)\n",
        "    else:\n",
        "        print(\"Tebrikler! Kelimeyi doğru tahmin ettin : \", kelime, \"!!\")\n",
        "\n",
        "    if tekrar_oyna():\n",
        "        adamAsmaca()\n",
        "    else:\n",
        "        print(\"Adam Asmaca oynadığınız için teşekkürler.\")\n",
        "\n",
        "adamAsmaca()\n",
        "     \n",
        "\n",
        "\n",
        "     "
      ],
      "metadata": {
        "colab": {
          "base_uri": "https://localhost:8080/"
        },
        "id": "VXIvGxd9xPbN",
        "outputId": "cd4b2846-2031-4afd-9edf-2869de81d3c9"
      },
      "execution_count": 9,
      "outputs": [
        {
          "output_type": "stream",
          "name": "stdout",
          "text": [
            "Lütfen (K)olay, (O)rta veya (Z)or seviyeden birini seçin:: K\n",
            "Kalan canınız: 5 Kullandığınız harfler:  \n",
            "Geçerli kelime:  _ _ _ _ _\n",
            "Bir harf tahmin edin: O\n",
            "Harf kelimede değil.\n",
            "Kalan canınız: 4 Kullandığınız harfler:  O\n",
            "Geçerli kelime:  _ _ _ _ _\n",
            "Bir harf tahmin edin: Z\n",
            "Harf kelimede değil.\n",
            "Kalan canınız: 3 Kullandığınız harfler:  O Z\n",
            "Geçerli kelime:  _ _ _ _ _\n",
            "Bir harf tahmin edin: o\n",
            "Bu harfi daha önce kullandınız. Lütfen tekrar deneyin.\n",
            "Kalan canınız: 3 Kullandığınız harfler:  O Z\n",
            "Geçerli kelime:  _ _ _ _ _\n",
            "Bir harf tahmin edin: a\n",
            "Kalan canınız: 3 Kullandığınız harfler:  A O Z\n",
            "Geçerli kelime:  _ A _ A _\n",
            "Bir harf tahmin edin: t\n",
            "Harf kelimede değil.\n",
            "Kalan canınız: 2 Kullandığınız harfler:  A O Z T\n",
            "Geçerli kelime:  _ A _ A _\n",
            "Bir harf tahmin edin: v\n",
            "Harf kelimede değil.\n",
            "Kalan canınız: 1 Kullandığınız harfler:  V A O Z T\n",
            "Geçerli kelime:  _ A _ A _\n",
            "Bir harf tahmin edin: b\n",
            "Kalan canınız: 1 Kullandığınız harfler:  V A O B Z T\n",
            "Geçerli kelime:  _ A B A _\n",
            "Bir harf tahmin edin: r\n",
            "Harf kelimede değil.\n",
            "Üzgünüm, Sen Asıldın ve Öldün!. Kelime şuydu :  KABAK\n",
            "Oyunu tekrar oynamak istermisiniz ? (E)vet veya (H)ayır: H\n",
            "Adam Asmaca oynadığınız için teşekkürler.\n"
          ]
        }
      ]
    }
  ]
}